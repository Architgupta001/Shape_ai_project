{
 "cells": [
  {
   "cell_type": "code",
   "execution_count": 1,
   "metadata": {},
   "outputs": [
    {
     "name": "stdin",
     "output_type": "stream",
     "text": [
      "Enter the city name:  bijnor\n"
     ]
    },
    {
     "name": "stdout",
     "output_type": "stream",
     "text": [
      "-------------------------------------------------------------\n",
      "Weather Stats for - BIJNOR  || 22 Jun 2021 | 04:08:17 PM\n",
      "-------------------------------------------------------------\n",
      "Current temperature is: 40.98 deg C\n",
      "Current weather desc  : clear sky\n",
      "Current Humidity      : 18 %\n",
      "Current wind speed    : 4.03 kmph\n"
     ]
    }
   ],
   "source": [
    "import requests\n",
    "#import json to read to json file and wrute into text file\n",
    "import json\n",
    "\n",
    "#import os if you want to use any other os commands\n",
    "from datetime import datetime\n",
    "\n",
    "api_key = '87d845b0b6cf29baa1a73cc34b067a95'\n",
    "location = input(\"Enter the city name: \")\n",
    "\n",
    "complete_api_link = \"https://api.openweathermap.org/data/2.5/weather?q=\"+location+\"&appid=\"+api_key\n",
    "api_link = requests.get(complete_api_link)\n",
    "api_data = api_link.json()\n",
    "\n",
    "#create variables to store and display data\n",
    "temp_city = ((api_data['main']['temp']) - 273.15)\n",
    "weather_desc = api_data['weather'][0]['description']\n",
    "hmdt = api_data['main']['humidity']\n",
    "wind_spd = api_data['wind']['speed']\n",
    "date_time = datetime.now().strftime(\"%d %b %Y | %I:%M:%S %p\")\n",
    "\n",
    "#this display function will display all the required information on the terminal \n",
    "def display():\n",
    "    print (\"-------------------------------------------------------------\")\n",
    "    print (\"Weather Stats for - {}  || {}\".format(location.upper(), date_time))\n",
    "    print (\"-------------------------------------------------------------\")\n",
    "\n",
    "    print (\"Current temperature is: {:.2f} deg C\".format(temp_city))\n",
    "    print (\"Current weather desc  :\",weather_desc)\n",
    "    print (\"Current Humidity      :\",hmdt, '%')\n",
    "    print (\"Current wind speed    :\",wind_spd ,'kmph')\n",
    "\n",
    "#function call\n",
    "display()\n",
    "\n",
    "#this will create a text file using open and then dump the json data into tht text file.\n",
    "with open('data.txt', 'w') as outfile:\n",
    "    json.dump(api_data, outfile)\n"
   ]
  },
  {
   "cell_type": "code",
   "execution_count": null,
   "metadata": {},
   "outputs": [],
   "source": []
  }
 ],
 "metadata": {
  "kernelspec": {
   "display_name": "Python 3",
   "language": "python",
   "name": "python3"
  },
  "language_info": {
   "codemirror_mode": {
    "name": "ipython",
    "version": 3
   },
   "file_extension": ".py",
   "mimetype": "text/x-python",
   "name": "python",
   "nbconvert_exporter": "python",
   "pygments_lexer": "ipython3",
   "version": "3.8.5"
  }
 },
 "nbformat": 4,
 "nbformat_minor": 4
}
